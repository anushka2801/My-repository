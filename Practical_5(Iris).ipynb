{
  "nbformat": 4,
  "nbformat_minor": 0,
  "metadata": {
    "colab": {
      "provenance": []
    },
    "kernelspec": {
      "name": "python3",
      "display_name": "Python 3"
    },
    "language_info": {
      "name": "python"
    }
  },
  "cells": [
    {
      "cell_type": "code",
      "source": [
        "!pip install sklearn"
      ],
      "metadata": {
        "colab": {
          "base_uri": "https://localhost:8080/"
        },
        "id": "RLMBj2J9V4wz",
        "outputId": "19b46b11-ade1-43af-fff7-834da536fb60"
      },
      "execution_count": null,
      "outputs": [
        {
          "output_type": "stream",
          "name": "stdout",
          "text": [
            "Looking in indexes: https://pypi.org/simple, https://us-python.pkg.dev/colab-wheels/public/simple/\n",
            "Collecting sklearn\n",
            "  Downloading sklearn-0.0.post1.tar.gz (3.6 kB)\n",
            "  Preparing metadata (setup.py) ... \u001b[?25l\u001b[?25hdone\n",
            "Building wheels for collected packages: sklearn\n",
            "  Building wheel for sklearn (setup.py) ... \u001b[?25l\u001b[?25hdone\n",
            "  Created wheel for sklearn: filename=sklearn-0.0.post1-py3-none-any.whl size=2955 sha256=e232281f727be2e2a94a13b4d222111671159391152e5c36d758b06a6ee00f0f\n",
            "  Stored in directory: /root/.cache/pip/wheels/f8/e0/3d/9d0c2020c44a519b9f02ab4fa6d2a4a996c98d79ab2f569fa1\n",
            "Successfully built sklearn\n",
            "Installing collected packages: sklearn\n",
            "Successfully installed sklearn-0.0.post1\n"
          ]
        }
      ]
    },
    {
      "cell_type": "code",
      "execution_count": null,
      "metadata": {
        "id": "bzyoo7xDGSK1"
      },
      "outputs": [],
      "source": [
        "from matplotlib import pyplot as plt\n",
        "from sklearn.datasets import load_iris\n",
        "from sklearn.neighbors import KNeighborsClassifier\n",
        "from sklearn.tree import DecisionTreeClassifier\n",
        "from sklearn.metrics import classification_report\n",
        "from sklearn.metrics import accuracy_score\n",
        "from sklearn.model_selection import train_test_split\n",
        "from sklearn.metrics import confusion_matrix,precision_score,recall_score,f1_score,ConfusionMatrixDisplay"
      ]
    },
    {
      "cell_type": "code",
      "source": [
        "iris = load_iris()\n",
        "x=iris.data\n",
        "y=iris.target"
      ],
      "metadata": {
        "id": "cLh3bwKiHhCk"
      },
      "execution_count": null,
      "outputs": []
    },
    {
      "cell_type": "code",
      "source": [
        "print(x.shape)"
      ],
      "metadata": {
        "colab": {
          "base_uri": "https://localhost:8080/"
        },
        "id": "qVq-FxHbHxQU",
        "outputId": "88fd85cb-0022-4756-8317-ed79ac022c5e"
      },
      "execution_count": null,
      "outputs": [
        {
          "output_type": "stream",
          "name": "stdout",
          "text": [
            "(150, 4)\n"
          ]
        }
      ]
    },
    {
      "cell_type": "code",
      "source": [
        "print(y.shape)"
      ],
      "metadata": {
        "colab": {
          "base_uri": "https://localhost:8080/"
        },
        "id": "v-o6AC5fHz_k",
        "outputId": "a3f855ae-1c9e-4b7d-a9ae-1bb2e4cbb0b6"
      },
      "execution_count": null,
      "outputs": [
        {
          "output_type": "stream",
          "name": "stdout",
          "text": [
            "(150,)\n"
          ]
        }
      ]
    },
    {
      "cell_type": "code",
      "source": [
        "k_size=0.25\n",
        "r_seed=100\n",
        "X_train,X_test,y_train,y_test=train_test_split(x,y,test_size=k_size,random_state=r_seed)"
      ],
      "metadata": {
        "id": "uOCx9DPjIC7z"
      },
      "execution_count": null,
      "outputs": []
    },
    {
      "cell_type": "code",
      "source": [
        "print(\"Shape of X_train\" ,X_train.shape)\n",
        "print(\"Shape of y_train\" ,y_train.shape)\n",
        "print(\"Shape of X_train\" ,X_test.shape)\n",
        "print(\"Shape of y_train\" ,y_test.shape)"
      ],
      "metadata": {
        "colab": {
          "base_uri": "https://localhost:8080/"
        },
        "id": "qfZUyyUNIWi8",
        "outputId": "93d58f93-d6e7-46b4-b7e2-2fd934990954"
      },
      "execution_count": null,
      "outputs": [
        {
          "output_type": "stream",
          "name": "stdout",
          "text": [
            "Shape of X_train (112, 4)\n",
            "Shape of y_train (112,)\n",
            "Shape of X_train (38, 4)\n",
            "Shape of y_train (38,)\n"
          ]
        }
      ]
    },
    {
      "cell_type": "markdown",
      "source": [
        "# Decision Tree of Hold Out "
      ],
      "metadata": {
        "id": "iqHQsTTghFwM"
      }
    },
    {
      "cell_type": "code",
      "source": [
        "deci_tree =DecisionTreeClassifier(criterion =\"entropy\") # By default gini\n",
        "deci_tree.fit(X_train,y_train)\n",
        "prediction=deci_tree.predict(X_test)\n",
        "accuracy_hold=accuracy_score(y_test,prediction)\n",
        "a1= accuracy_hold*100\n",
        "print( \"Hold out \",a1)"
      ],
      "metadata": {
        "id": "PK-7_snEI-tE",
        "colab": {
          "base_uri": "https://localhost:8080/"
        },
        "outputId": "27f7bd9e-5baf-40db-ac6f-e46c0ab992ba"
      },
      "execution_count": null,
      "outputs": [
        {
          "output_type": "stream",
          "name": "stdout",
          "text": [
            "Hold out  94.73684210526315\n"
          ]
        }
      ]
    },
    {
      "cell_type": "code",
      "source": [
        "fig,(ax1)=plt.subplots()\n",
        "fig.set_size_inches(15,5)\n",
        "ax1.set_title(\"Decisiopn tree\")\n",
        "ConfusionMatrixDisplay.from_estimator(deci_tree,X_test,y_test,ax=ax1)"
      ],
      "metadata": {
        "id": "af2DLIXbJhGk",
        "colab": {
          "base_uri": "https://localhost:8080/",
          "height": 505
        },
        "outputId": "d82e0eed-798d-4484-ae4a-0d63bb66c22b"
      },
      "execution_count": null,
      "outputs": [
        {
          "output_type": "execute_result",
          "data": {
            "text/plain": [
              "<sklearn.metrics._plot.confusion_matrix.ConfusionMatrixDisplay at 0x7f6c2d67aaf0>"
            ]
          },
          "metadata": {},
          "execution_count": 9
        },
        {
          "output_type": "display_data",
          "data": {
            "text/plain": [
              "<Figure size 1500x500 with 2 Axes>"
            ],
            "image/png": "[encoded data removed]"
          },
          "metadata": {}
        }
      ]
    },
    {
      "cell_type": "markdown",
      "source": [
        "# KNN"
      ],
      "metadata": {
        "id": "qAB-rU8BhSKF"
      }
    },
    {
      "cell_type": "code",
      "source": [
        "#KNN (Nearst Neighbour)\n",
        "knn = KNeighborsClassifier()\n",
        "knn.fit(X_train,y_train)\n",
        "print(\"Accuracy \")\n",
        "a2 = knn.score(X_test,y_test)*100\n",
        "print(a2)"
      ],
      "metadata": {
        "colab": {
          "base_uri": "https://localhost:8080/"
        },
        "id": "hXmCIsYcnhii",
        "outputId": "581f1f91-4303-4c8a-8c5f-db7e93f15670"
      },
      "execution_count": null,
      "outputs": [
        {
          "output_type": "stream",
          "name": "stdout",
          "text": [
            "Accuracy \n",
            "97.36842105263158\n"
          ]
        }
      ]
    },
    {
      "cell_type": "markdown",
      "source": [
        "# Naive bayes"
      ],
      "metadata": {
        "id": "iTTZKqiJhfBm"
      }
    },
    {
      "cell_type": "code",
      "source": [
        "from sklearn.naive_bayes import GaussianNB\n",
        "#fitting the model\n",
        "nb=GaussianNB()\n",
        "nb.fit(X_train,y_train)\n",
        "prediction_nb =nb.predict(X_test)\n",
        "\n",
        "print(\"Accuracy of Test Data\")\n",
        "nb_score=accuracy_score(y_test,prediction_nb)\n",
        "\n",
        "a3 = nb_score*100\n",
        "print(\"Naive Bayes Accuracy :\",a3,\"%\")\n",
        "print(\"Classification report on test data\")\n",
        "print(classification_report(y_test,prediction_nb))"
      ],
      "metadata": {
        "colab": {
          "base_uri": "https://localhost:8080/"
        },
        "id": "85or04-kL8hk",
        "outputId": "b1df8572-7317-49cc-cdbc-121ec4e7e532"
      },
      "execution_count": null,
      "outputs": [
        {
          "output_type": "stream",
          "name": "stdout",
          "text": [
            "Accuracy of Test Data\n",
            "Naive Bayes Accuracy : 94.73684210526315 %\n",
            "Classification report on test data\n",
            "              precision    recall  f1-score   support\n",
            "\n",
            "           0       1.00      1.00      1.00        14\n",
            "           1       0.90      0.90      0.90        10\n",
            "           2       0.93      0.93      0.93        14\n",
            "\n",
            "    accuracy                           0.95        38\n",
            "   macro avg       0.94      0.94      0.94        38\n",
            "weighted avg       0.95      0.95      0.95        38\n",
            "\n"
          ]
        }
      ]
    },
    {
      "cell_type": "code",
      "source": [
        "import numpy as np\n",
        "k=20\n",
        "dta = []\n",
        "for i in range(k):\n",
        "    x_train, x_test, y_train, y_test = train_test_split(x, y, test_size=.3)\n",
        "    deci_tree.fit(x_train, y_train)\n",
        "    dta.append(deci_tree.score(x_test, y_test))\n",
        "a4 = np.mean(dta)*100\n",
        "print(\"Decision tree accuracy: \" ,a4,\"%\")"
      ],
      "metadata": {
        "colab": {
          "base_uri": "https://localhost:8080/"
        },
        "id": "U7-HcweKgzoV",
        "outputId": "5db066c7-3285-458a-dfa4-13f68859a659"
      },
      "execution_count": null,
      "outputs": [
        {
          "output_type": "stream",
          "name": "stdout",
          "text": [
            "Decision tree accuracy:  95.0 %\n"
          ]
        }
      ]
    },
    {
      "cell_type": "markdown",
      "source": [
        "# Cross validation"
      ],
      "metadata": {
        "id": "MxBgnwtjhPdt"
      }
    },
    {
      "cell_type": "code",
      "source": [
        "from sklearn.model_selection import cross_val_score\n",
        "scores = cross_val_score(deci_tree,iris.data,iris.target,cv=5)"
      ],
      "metadata": {
        "id": "ZIyrAnYWqx6Q"
      },
      "execution_count": null,
      "outputs": []
    },
    {
      "cell_type": "code",
      "source": [
        "mean_accuracy =scores.mean()\n",
        "std_accuracy=scores.std()"
      ],
      "metadata": {
        "id": "dNXvUjsqqx_t"
      },
      "execution_count": null,
      "outputs": []
    },
    {
      "cell_type": "code",
      "source": [
        "a5 = mean_accuracy*100\n",
        "print(a5)"
      ],
      "metadata": {
        "colab": {
          "base_uri": "https://localhost:8080/"
        },
        "id": "tl4aCJGMrgrw",
        "outputId": "8e95a495-0013-402f-bfd1-b60af5b1f9f7"
      },
      "execution_count": null,
      "outputs": [
        {
          "output_type": "stream",
          "name": "stdout",
          "text": [
            "95.33333333333334\n"
          ]
        }
      ]
    },
    {
      "cell_type": "code",
      "source": [
        "print(\"Accurcay of Hold Out \",a1)\n",
        "print(\"Accurcay of KNN \",a2)\n",
        "print(\"Accurcay of Naive Bayes \",a3)\n",
        "print(\"Accurcay of Cross Validation \",a4)"
      ],
      "metadata": {
        "colab": {
          "base_uri": "https://localhost:8080/"
        },
        "id": "nNKbkzEgbHIk",
        "outputId": "aa2cd790-b433-4648-e515-b85d35a56a44"
      },
      "execution_count": null,
      "outputs": [
        {
          "output_type": "stream",
          "name": "stdout",
          "text": [
            "Accurcay of Hold Out  94.73684210526315\n",
            "Accurcay of KNN  97.36842105263158\n",
            "Accurcay of Naive Bayes  94.73684210526315\n",
            "Accurcay of Cross Validation  95.0\n"
          ]
        }
      ]
    },
    {
      "cell_type": "code",
      "source": [],
      "metadata": {
        "id": "anRjEJ8YbZIe"
      },
      "execution_count": null,
      "outputs": []
    }
  ]
}