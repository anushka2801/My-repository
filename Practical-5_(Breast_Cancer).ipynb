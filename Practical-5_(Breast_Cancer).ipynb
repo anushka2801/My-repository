{
  "nbformat": 4,
  "nbformat_minor": 0,
  "metadata": {
    "colab": {
      "provenance": []
    },
    "kernelspec": {
      "name": "python3",
      "display_name": "Python 3"
    },
    "language_info": {
      "name": "python"
    }
  },
  "cells": [
    {
      "cell_type": "code",
      "source": [
        "!pip install sklearn"
      ],
      "metadata": {
        "colab": {
          "base_uri": "https://localhost:8080/"
        },
        "id": "RLMBj2J9V4wz",
        "outputId": "b7773c0d-5e42-4d77-d003-29cc898bc13d"
      },
      "execution_count": null,
      "outputs": [
        {
          "output_type": "stream",
          "name": "stdout",
          "text": [
            "Looking in indexes: https://pypi.org/simple, https://us-python.pkg.dev/colab-wheels/public/simple/\n",
            "Collecting sklearn\n",
            "  Downloading sklearn-0.0.post1.tar.gz (3.6 kB)\n",
            "  Preparing metadata (setup.py) ... \u001b[?25l\u001b[?25hdone\n",
            "Building wheels for collected packages: sklearn\n",
            "  Building wheel for sklearn (setup.py) ... \u001b[?25l\u001b[?25hdone\n",
            "  Created wheel for sklearn: filename=sklearn-0.0.post1-py3-none-any.whl size=2955 sha256=312fcb587c308c608ad06b417d43f6842a9490f03b9ef5756dfae16d18bd39fe\n",
            "  Stored in directory: /root/.cache/pip/wheels/f8/e0/3d/9d0c2020c44a519b9f02ab4fa6d2a4a996c98d79ab2f569fa1\n",
            "Successfully built sklearn\n",
            "Installing collected packages: sklearn\n",
            "Successfully installed sklearn-0.0.post1\n"
          ]
        }
      ]
    },
    {
      "cell_type": "code",
      "execution_count": null,
      "metadata": {
        "id": "bzyoo7xDGSK1"
      },
      "outputs": [],
      "source": [
        "from matplotlib import pyplot as plt\n",
        "from sklearn.datasets import load_breast_cancer\n",
        "from sklearn.neighbors import KNeighborsClassifier\n",
        "from sklearn.tree import DecisionTreeClassifier\n",
        "from sklearn.metrics import classification_report\n",
        "from sklearn.metrics import accuracy_score\n",
        "from sklearn.model_selection import train_test_split\n",
        "from sklearn.metrics import confusion_matrix,precision_score,recall_score,f1_score,ConfusionMatrixDisplay"
      ]
    },
    {
      "cell_type": "code",
      "source": [
        "svm = load_breast_cancer()\n",
        "x = svm.data\n",
        "y = svm.target"
      ],
      "metadata": {
        "id": "cLh3bwKiHhCk"
      },
      "execution_count": null,
      "outputs": []
    },
    {
      "cell_type": "code",
      "source": [
        "print(x.shape)"
      ],
      "metadata": {
        "colab": {
          "base_uri": "https://localhost:8080/"
        },
        "id": "qVq-FxHbHxQU",
        "outputId": "47428c14-1f13-4354-9139-6891d72dfadd"
      },
      "execution_count": null,
      "outputs": [
        {
          "output_type": "stream",
          "name": "stdout",
          "text": [
            "(569, 30)\n"
          ]
        }
      ]
    },
    {
      "cell_type": "code",
      "source": [
        "print(y.shape)"
      ],
      "metadata": {
        "colab": {
          "base_uri": "https://localhost:8080/"
        },
        "id": "v-o6AC5fHz_k",
        "outputId": "cfea3bfb-72eb-4917-890a-3fba8f1f8763"
      },
      "execution_count": null,
      "outputs": [
        {
          "output_type": "stream",
          "name": "stdout",
          "text": [
            "(569,)\n"
          ]
        }
      ]
    },
    {
      "cell_type": "code",
      "source": [
        "k_size = 0.25\n",
        "r_seed = 100\n",
        "X_train,X_test,y_train,y_test=train_test_split(x,y,test_size=k_size,random_state=r_seed)"
      ],
      "metadata": {
        "id": "uOCx9DPjIC7z"
      },
      "execution_count": null,
      "outputs": []
    },
    {
      "cell_type": "code",
      "source": [
        "print(\"Shape of X_train\" ,X_train.shape)\n",
        "print(\"Shape of y_train\" ,y_train.shape)\n",
        "print(\"Shape of X_train\" ,X_test.shape)\n",
        "print(\"Shape of y_train\" ,y_test.shape)"
      ],
      "metadata": {
        "colab": {
          "base_uri": "https://localhost:8080/"
        },
        "id": "qfZUyyUNIWi8",
        "outputId": "1c10acdf-4af8-4b29-af0b-634dcbba8945"
      },
      "execution_count": null,
      "outputs": [
        {
          "output_type": "stream",
          "name": "stdout",
          "text": [
            "Shape of X_train (426, 30)\n",
            "Shape of y_train (426,)\n",
            "Shape of X_train (143, 30)\n",
            "Shape of y_train (143,)\n"
          ]
        }
      ]
    },
    {
      "cell_type": "markdown",
      "source": [
        "# Decision Tree of Hold Out "
      ],
      "metadata": {
        "id": "iqHQsTTghFwM"
      }
    },
    {
      "cell_type": "code",
      "source": [
        "deci_tree =DecisionTreeClassifier(criterion =\"entropy\") # By default gini\n",
        "deci_tree.fit(X_train,y_train)\n",
        "prediction=deci_tree.predict(X_test)\n",
        "accuracy_hold=accuracy_score(y_test,prediction)\n",
        "a1= accuracy_hold*100\n",
        "print( \"Hold out \",a1)"
      ],
      "metadata": {
        "id": "PK-7_snEI-tE",
        "colab": {
          "base_uri": "https://localhost:8080/"
        },
        "outputId": "c187405c-471e-48b2-b658-a1617fbfc9b3"
      },
      "execution_count": null,
      "outputs": [
        {
          "output_type": "stream",
          "name": "stdout",
          "text": [
            "Hold out  93.00699300699301\n"
          ]
        }
      ]
    },
    {
      "cell_type": "code",
      "source": [
        "fig,(ax1)=plt.subplots()\n",
        "fig.set_size_inches(15,5)\n",
        "ax1.set_title(\"Decisiopn tree\")\n",
        "ConfusionMatrixDisplay.from_estimator(deci_tree,X_test,y_test,ax=ax1)"
      ],
      "metadata": {
        "id": "af2DLIXbJhGk",
        "colab": {
          "base_uri": "https://localhost:8080/",
          "height": 504
        },
        "outputId": "215af644-5c74-4469-a559-f8d473e55c8d"
      },
      "execution_count": null,
      "outputs": [
        {
          "output_type": "execute_result",
          "data": {
            "text/plain": [
              "<sklearn.metrics._plot.confusion_matrix.ConfusionMatrixDisplay at 0x7f17ac778ee0>"
            ]
          },
          "metadata": {},
          "execution_count": 9
        },
        {
          "output_type": "display_data",
          "data": {
            "text/plain": [
              "<Figure size 1500x500 with 2 Axes>"
            ],
            "image/png": "[encoded data removed]"
          },
          "metadata": {}
        }
      ]
    },
    {
      "cell_type": "markdown",
      "source": [
        "# KNN"
      ],
      "metadata": {
        "id": "qAB-rU8BhSKF"
      }
    },
    {
      "cell_type": "code",
      "source": [
        "#KNN (Nearst Neighbour)\n",
        "knn = KNeighborsClassifier()\n",
        "knn.fit(X_train,y_train)\n",
        "print(\"Accuracy \")\n",
        "a2 = knn.score(X_test,y_test)*100\n",
        "print(a2)"
      ],
      "metadata": {
        "colab": {
          "base_uri": "https://localhost:8080/"
        },
        "id": "hXmCIsYcnhii",
        "outputId": "b5f9ee34-cf93-4d17-ad71-ab9a3515470a"
      },
      "execution_count": null,
      "outputs": [
        {
          "output_type": "stream",
          "name": "stdout",
          "text": [
            "Accuracy \n",
            "95.8041958041958\n"
          ]
        }
      ]
    },
    {
      "cell_type": "markdown",
      "source": [
        "# Naive bayes"
      ],
      "metadata": {
        "id": "iTTZKqiJhfBm"
      }
    },
    {
      "cell_type": "code",
      "source": [
        "from sklearn.naive_bayes import GaussianNB\n",
        "#fitting the model\n",
        "nb=GaussianNB()\n",
        "nb.fit(X_train,y_train)\n",
        "prediction_nb =nb.predict(X_test)\n",
        "\n",
        "print(\"Accuracy of Test Data\")\n",
        "nb_score=accuracy_score(y_test,prediction_nb)\n",
        "\n",
        "a3 = nb_score*100\n",
        "print(\"Naive Bayes Accuracy :\",a3,\"%\")\n",
        "print(\"Classification report on test data\")\n",
        "print(classification_report(y_test,prediction_nb))"
      ],
      "metadata": {
        "colab": {
          "base_uri": "https://localhost:8080/"
        },
        "id": "85or04-kL8hk",
        "outputId": "34443b9b-d798-4a9c-b9b8-bbe3fb2ab5bd"
      },
      "execution_count": null,
      "outputs": [
        {
          "output_type": "stream",
          "name": "stdout",
          "text": [
            "Accuracy of Test Data\n",
            "Naive Bayes Accuracy : 94.4055944055944 %\n",
            "Classification report on test data\n",
            "              precision    recall  f1-score   support\n",
            "\n",
            "           0       0.94      0.91      0.93        56\n",
            "           1       0.94      0.97      0.95        87\n",
            "\n",
            "    accuracy                           0.94       143\n",
            "   macro avg       0.94      0.94      0.94       143\n",
            "weighted avg       0.94      0.94      0.94       143\n",
            "\n"
          ]
        }
      ]
    },
    {
      "cell_type": "code",
      "source": [
        "import numpy as np\n",
        "k=20\n",
        "dta = []\n",
        "for i in range(k):\n",
        "    x_train, x_test, y_train, y_test = train_test_split(x, y, test_size=.3)\n",
        "    deci_tree.fit(x_train, y_train)\n",
        "    dta.append(deci_tree.score(x_test, y_test))\n",
        "a4 = np.mean(dta)*100\n",
        "print(\"Decision tree accuracy: \" ,a4,\"%\")"
      ],
      "metadata": {
        "colab": {
          "base_uri": "https://localhost:8080/"
        },
        "id": "U7-HcweKgzoV",
        "outputId": "5d22f646-ede8-4a06-8e0d-47db57bb9b7d"
      },
      "execution_count": null,
      "outputs": [
        {
          "output_type": "stream",
          "name": "stdout",
          "text": [
            "Decision tree accuracy:  93.27485380116961 %\n"
          ]
        }
      ]
    },
    {
      "cell_type": "markdown",
      "source": [
        "# Cross validation"
      ],
      "metadata": {
        "id": "MxBgnwtjhPdt"
      }
    },
    {
      "cell_type": "code",
      "source": [
        "from sklearn.model_selection import cross_val_score\n",
        "scores = cross_val_score(deci_tree,svm.data,svm.target,cv=5)"
      ],
      "metadata": {
        "id": "ZIyrAnYWqx6Q"
      },
      "execution_count": null,
      "outputs": []
    },
    {
      "cell_type": "code",
      "source": [
        "mean_accuracy =scores.mean()\n",
        "std_accuracy=scores.std()"
      ],
      "metadata": {
        "id": "dNXvUjsqqx_t"
      },
      "execution_count": null,
      "outputs": []
    },
    {
      "cell_type": "code",
      "source": [
        "a5 = mean_accuracy*100\n",
        "print(a5)"
      ],
      "metadata": {
        "colab": {
          "base_uri": "https://localhost:8080/"
        },
        "id": "tl4aCJGMrgrw",
        "outputId": "29bc4070-9c3b-4bf0-8181-70fa00b76e2b"
      },
      "execution_count": null,
      "outputs": [
        {
          "output_type": "stream",
          "name": "stdout",
          "text": [
            "93.67489520260828\n"
          ]
        }
      ]
    },
    {
      "cell_type": "code",
      "source": [
        "print(\"Accurcay of Hold Out \",a1)\n",
        "print(\"Accurcay of KNN \",a2)\n",
        "print(\"Accurcay of Naive Bayes \",a3)\n",
        "print(\"Accurcay of Cross Validation \",a4)"
      ],
      "metadata": {
        "colab": {
          "base_uri": "https://localhost:8080/"
        },
        "id": "nNKbkzEgbHIk",
        "outputId": "d9f9b374-545c-4754-e3c3-c62916636fb8"
      },
      "execution_count": null,
      "outputs": [
        {
          "output_type": "stream",
          "name": "stdout",
          "text": [
            "Accurcay of Hold Out  93.00699300699301\n",
            "Accurcay of KNN  95.8041958041958\n",
            "Accurcay of Naive Bayes  94.4055944055944\n",
            "Accurcay of Cross Validation  93.27485380116961\n"
          ]
        }
      ]
    },
    {
      "cell_type": "code",
      "source": [],
      "metadata": {
        "id": "anRjEJ8YbZIe"
      },
      "execution_count": null,
      "outputs": []
    }
  ]
}